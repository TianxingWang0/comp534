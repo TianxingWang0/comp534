{
 "cells": [
  {
   "cell_type": "code",
   "execution_count": 1,
   "metadata": {},
   "outputs": [],
   "source": [
    "import numpy as np\n",
    "import matplotlib.pyplot as plt"
   ]
  },
  {
   "cell_type": "code",
   "execution_count": 27,
   "metadata": {},
   "outputs": [],
   "source": [
    "x = np.linspace(1, 32, 32)\n",
    "\n",
    "master_y = np.array([58.245, 29.732, 20.147, 15.319, 12.332, 10.332,  8.916,  7.843,\n",
    "                        7.857,  7.876,  7.899,  7.877,  7.907,  7.935,  7.954,  7.835,\n",
    "                        7.932,  8.01 ,  8.062,  8.077,  8.116,  8.18 ,  8.164,  8.256,\n",
    "                        8.365,  8.536,  8.609,  8.493,  8.78 ,  8.854,  8.947,  9.384])\n",
    "\n",
    "master_pTp = master_y * x\n",
    "\n",
    "master_e = 47.166 / master_pTp"
   ]
  },
  {
   "cell_type": "code",
   "execution_count": 36,
   "metadata": {},
   "outputs": [
    {
     "data": {
      "text/plain": [
       "array([ 1.,  2.,  3.,  4.,  5.,  6.,  7.,  8.,  9., 10., 11., 12., 13.,\n",
       "       14., 15., 16., 17., 18., 19., 20., 21., 22., 23., 24., 25., 26.,\n",
       "       27., 28., 29., 30., 31., 32.])"
      ]
     },
     "execution_count": 36,
     "metadata": {},
     "output_type": "execute_result"
    }
   ],
   "source": [
    "x"
   ]
  },
  {
   "cell_type": "code",
   "execution_count": 24,
   "metadata": {},
   "outputs": [],
   "source": [
    "dev_y = np.array([104.299, 57.259, 38.339, 28.960, 23.982, 20.144, 17.415, 15.256, 15.274, 15.261, 15.304, 15.284, 15.297,15.331,\n",
    "                 15.305, 15.318, 15.441, 15.526, 15.554, 15.600, 15.603, 15.801, 15.750, 15.790, 15.790, 15.885, 16.084, 16.126,\n",
    "                 16.334, 16.217, 16.297, 16.509])\n",
    "\n",
    "dev_pTp = dev_y * x\n",
    "\n",
    "dev_e = 48.066 / dev_pTp"
   ]
  },
  {
   "cell_type": "code",
   "execution_count": 39,
   "metadata": {},
   "outputs": [
    {
     "data": {
      "image/png": "[encoded data removed]",
      "text/plain": [
       "<Figure size 432x288 with 1 Axes>"
      ]
     },
     "metadata": {
      "needs_background": "light"
     },
     "output_type": "display_data"
    }
   ],
   "source": [
    "fig = plt.figure()  \n",
    "\n",
    "plt.ylim(0.0, 1.0)\n",
    "\n",
    "master, = plt.plot(x, master_e, '-k', linewidth = 1)  \n",
    "dev, = plt.plot(x, dev_e, '--k', linewidth = 1)  \n",
    "#base, = plt.plot(x, base_y,':k',linewidth = 1)  \n",
    "plt.vlines(8, 0, 1.0, colors = \"r\", linestyles = \"dashed\")\n",
    " \n",
    "plt.title('Parallel Efficiency Curve')  \n",
    "plt.ylabel('Parallel Efficiency')  \n",
    "plt.xlabel('Processors') \n",
    "  \n",
    "plt.legend(handles=[master, dev],labels=['branch master', 'branch dev'],loc='best')\n",
    " \n",
    "plt.show()"
   ]
  }
 ],
 "metadata": {
  "kernelspec": {
   "display_name": "Python 3",
   "language": "python",
   "name": "python3"
  },
  "language_info": {
   "codemirror_mode": {
    "name": "ipython",
    "version": 3
   },
   "file_extension": ".py",
   "mimetype": "text/x-python",
   "name": "python",
   "nbconvert_exporter": "python",
   "pygments_lexer": "ipython3",
   "version": "3.6.4"
  },
  "toc": {
   "base_numbering": 1,
   "nav_menu": {},
   "number_sections": true,
   "sideBar": true,
   "skip_h1_title": false,
   "title_cell": "Table of Contents",
   "title_sidebar": "Contents",
   "toc_cell": false,
   "toc_position": {},
   "toc_section_display": true,
   "toc_window_display": false
  }
 },
 "nbformat": 4,
 "nbformat_minor": 2
}
